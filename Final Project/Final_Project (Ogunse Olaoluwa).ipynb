{
 "cells": [
  {
   "cell_type": "code",
   "execution_count": 26,
   "metadata": {},
   "outputs": [],
   "source": [
    "class employees():\n",
    "    \n",
    "    \n",
    "    def __init__(self, name, age):\n",
    "        self.name = name\n",
    "        self.age = age\n",
    "        self.language = []\n",
    "    \n",
    "    def addLanguage(self,*new_lang):\n",
    "        print(\"Adding languages for employee\")\n",
    "        self.language.append(new_lang)\n",
    "    \n",
    "    def printLanguage(self):\n",
    "        print(\"Employee {} Languages are:\".format(self.name))\n",
    "        for i in self.language:\n",
    "              print(i)\n"
   ]
  },
  {
   "cell_type": "code",
   "execution_count": 27,
   "metadata": {},
   "outputs": [],
   "source": [
    "class manager():\n",
    "    \n",
    "    def __init__(self, name, age):\n",
    "        self.name = name\n",
    "        self.age = age\n",
    "        self.language = []\n",
    "    \n",
    "    def addLanguage(self,*new_lang):\n",
    "        print(\"Adding languages for manager\")\n",
    "        self.language.append(new_lang)\n",
    "    \n",
    "    def printLanguage(self):\n",
    "        print(\"Manager {} Languages are:\".format(self.name))\n",
    "        for i in self.language:\n",
    "              print(i)\n"
   ]
  },
  {
   "cell_type": "code",
   "execution_count": 28,
   "metadata": {},
   "outputs": [
    {
     "name": "stdout",
     "output_type": "stream",
     "text": [
      "Adding languages for employee\n"
     ]
    }
   ],
   "source": [
    "John = employees(\"John\",32)\n",
    "John.addLanguage(\"Yoruba\", \"English\", \"Spanish\")\n"
   ]
  },
  {
   "cell_type": "code",
   "execution_count": 29,
   "metadata": {},
   "outputs": [
    {
     "name": "stdout",
     "output_type": "stream",
     "text": [
      "Employee John Languages are:\n",
      "('Yoruba', 'English', 'Spanish')\n"
     ]
    }
   ],
   "source": [
    "John.printLanguage()"
   ]
  },
  {
   "cell_type": "code",
   "execution_count": 30,
   "metadata": {},
   "outputs": [
    {
     "name": "stdout",
     "output_type": "stream",
     "text": [
      "Adding languages for manager\n"
     ]
    }
   ],
   "source": [
    "Laura = manager(\"Laura\", 52)\n",
    "Laura.addLanguage(\"Spanish\", \"French\", \"Chinese\")"
   ]
  },
  {
   "cell_type": "code",
   "execution_count": 31,
   "metadata": {},
   "outputs": [
    {
     "name": "stdout",
     "output_type": "stream",
     "text": [
      "Manager Laura Languages are:\n",
      "('Spanish', 'French', 'Chinese')\n"
     ]
    }
   ],
   "source": [
    "Laura.printLanguage()"
   ]
  }
 ],
 "metadata": {
  "kernelspec": {
   "display_name": "Python 3",
   "language": "python",
   "name": "python3"
  },
  "language_info": {
   "codemirror_mode": {
    "name": "ipython",
    "version": 3
   },
   "file_extension": ".py",
   "mimetype": "text/x-python",
   "name": "python",
   "nbconvert_exporter": "python",
   "pygments_lexer": "ipython3",
   "version": "3.6.4"
  }
 },
 "nbformat": 4,
 "nbformat_minor": 2
}
