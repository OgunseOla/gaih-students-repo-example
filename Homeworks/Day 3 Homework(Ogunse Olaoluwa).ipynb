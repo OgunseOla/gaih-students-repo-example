{
 "cells": [
  {
   "cell_type": "code",
   "execution_count": 1,
   "metadata": {},
   "outputs": [
    {
     "name": "stdout",
     "output_type": "stream",
     "text": [
      "Enter your Username: Olaoluwa\n",
      "Enter your Password: password1\n",
      "Successful\n"
     ]
    }
   ],
   "source": [
    "username = \"Olaoluwa\"\n",
    "password = \"password1\"\n",
    "\n",
    "user_in = input(\"Enter your Username: \")\n",
    "password_in = input(\"Enter your Password: \")\n",
    "\n",
    "if username == user_in and password == password_in:\n",
    "    print(\"Successful\")\n",
    "else:\n",
    "    print(\"Wrong Username or Password\")"
   ]
  },
  {
   "cell_type": "code",
   "execution_count": 2,
   "metadata": {},
   "outputs": [
    {
     "name": "stdout",
     "output_type": "stream",
     "text": [
      "Enter your Username: ola\n",
      "Enter your Password: password\n",
      "Successful ola\n"
     ]
    }
   ],
   "source": [
    "user_pass = {'ola' : 'password'}\n",
    "\n",
    "\n",
    "user_in = input(\"Enter your Username: \")\n",
    "password_in = input(\"Enter your Password: \")\n",
    "\n",
    "if password_in in user_pass[user_in]:\n",
    "    print(\"Successful\", user_in)\n",
    "else:\n",
    "    print(\"Wrong Username or Password\")"
   ]
  },
  {
   "cell_type": "code",
   "execution_count": null,
   "metadata": {},
   "outputs": [],
   "source": []
  }
 ],
 "metadata": {
  "kernelspec": {
   "display_name": "Python 3",
   "language": "python",
   "name": "python3"
  },
  "language_info": {
   "codemirror_mode": {
    "name": "ipython",
    "version": 3
   },
   "file_extension": ".py",
   "mimetype": "text/x-python",
   "name": "python",
   "nbconvert_exporter": "python",
   "pygments_lexer": "ipython3",
   "version": "3.6.4"
  }
 },
 "nbformat": 4,
 "nbformat_minor": 2
}
